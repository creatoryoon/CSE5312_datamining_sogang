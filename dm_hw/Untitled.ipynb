{
 "cells": [
  {
   "cell_type": "code",
   "execution_count": 1,
   "id": "4a0c848b",
   "metadata": {},
   "outputs": [],
   "source": [
    "import tensorflow as tf\n",
    "from einops.layers.tensorflow import Rearrange\n",
    "\n",
    "\n",
    "class MultiHeadedAttention(tf.keras.Model):\n",
    "\n",
    "    def __init__(self, dimension, heads=8):\n",
    "        super(MultiHeadedAttention, self).__init__()\n",
    "\n",
    "        self.heads = heads\n",
    "        self.scale = dimension ** -0.5\n",
    "\n",
    "        self.mlp_in = tf.keras.layers.Dense(dimension * 3, use_bias=False)\n",
    "        self.mlp_out = tf.keras.layers.Dense(dimension)\n",
    "\n",
    "        self.rearrange_attention = Rearrange(\n",
    "            'b n (qkv h d) -> qkv b h n d', qkv=3, h=self.heads)\n",
    "        self.rearrange_output = Rearrange('b h n d -> b n (h d)')\n",
    "\n",
    "    def call(self, inputs):\n",
    "        query_key_value = self.mlp_in(inputs)\n",
    "        query_key_value = self.rearrange_attention(query_key_value)\n",
    "\n",
    "        query = query_key_value[0]\n",
    "        key = query_key_value[1]\n",
    "        value = query_key_value[2]\n",
    "\n",
    "        dot_product = tf.einsum('bhid,bhjd->bhij', query, key) * self.scale\n",
    "        attention = tf.nn.softmax(dot_product, axis=-1)\n",
    "\n",
    "        output = tf.einsum('bhij,bhjd->bhid', attention, value)\n",
    "        output = self.rearrange_output(output)\n",
    "        return self.mlp_out(output)"
   ]
  },
  {
   "cell_type": "code",
   "execution_count": 5,
   "id": "e5151b8a",
   "metadata": {},
   "outputs": [
    {
     "ename": "ImportError",
     "evalue": "cannot import name 'Relu' from 'echoAI.Activation.TF_Keras.custom_activation' (C:\\ProgramData\\Anaconda3\\lib\\site-packages\\echoAI\\Activation\\TF_Keras\\custom_activation.py)",
     "output_type": "error",
     "traceback": [
      "\u001b[1;31m---------------------------------------------------------------------------\u001b[0m",
      "\u001b[1;31mImportError\u001b[0m                               Traceback (most recent call last)",
      "\u001b[1;32m<ipython-input-5-7fce9a038f21>\u001b[0m in \u001b[0;36m<module>\u001b[1;34m\u001b[0m\n\u001b[0;32m      1\u001b[0m \u001b[1;32mimport\u001b[0m \u001b[0mtensorflow\u001b[0m \u001b[1;32mas\u001b[0m \u001b[0mtf\u001b[0m\u001b[1;33m\u001b[0m\u001b[1;33m\u001b[0m\u001b[0m\n\u001b[1;32m----> 2\u001b[1;33m \u001b[1;32mfrom\u001b[0m \u001b[0mechoAI\u001b[0m\u001b[1;33m.\u001b[0m\u001b[0mActivation\u001b[0m\u001b[1;33m.\u001b[0m\u001b[0mTF_Keras\u001b[0m\u001b[1;33m.\u001b[0m\u001b[0mcustom_activation\u001b[0m \u001b[1;32mimport\u001b[0m \u001b[0mRelu\u001b[0m\u001b[1;33m\u001b[0m\u001b[1;33m\u001b[0m\u001b[0m\n\u001b[0m\u001b[0;32m      3\u001b[0m \u001b[1;33m\u001b[0m\u001b[0m\n\u001b[0;32m      4\u001b[0m \u001b[1;33m\u001b[0m\u001b[0m\n\u001b[0;32m      5\u001b[0m \u001b[1;32mclass\u001b[0m \u001b[0mResidualBlock\u001b[0m\u001b[1;33m(\u001b[0m\u001b[0mtf\u001b[0m\u001b[1;33m.\u001b[0m\u001b[0mkeras\u001b[0m\u001b[1;33m.\u001b[0m\u001b[0mModel\u001b[0m\u001b[1;33m)\u001b[0m\u001b[1;33m:\u001b[0m\u001b[1;33m\u001b[0m\u001b[1;33m\u001b[0m\u001b[0m\n",
      "\u001b[1;31mImportError\u001b[0m: cannot import name 'Relu' from 'echoAI.Activation.TF_Keras.custom_activation' (C:\\ProgramData\\Anaconda3\\lib\\site-packages\\echoAI\\Activation\\TF_Keras\\custom_activation.py)"
     ]
    }
   ],
   "source": [
    "import tensorflow as tf\n",
    "from echoAI.Activation.TF_Keras.custom_activation import GELU\n",
    "\n",
    "\n",
    "class ResidualBlock(tf.keras.Model):\n",
    "\n",
    "    def __init__(self, residual_function):\n",
    "        super(ResidualBlock, self).__init__()\n",
    "        self.residual_function = residual_function\n",
    "\n",
    "    def call(self, inputs):\n",
    "        return self.residual_function(inputs) + inputs\n",
    "\n",
    "\n",
    "class NormalizationBlock(tf.keras.Model):\n",
    "\n",
    "    def __init__(self, norm_function, epsilon=1e-5):\n",
    "        super(NormalizationBlock, self).__init__()\n",
    "        self.norm_function = norm_function\n",
    "        self.normalize = tf.keras.layers.LayerNormalization(epsilon=epsilon)\n",
    "\n",
    "    def call(self, inputs):\n",
    "        return self.norm_function(self.normalize(inputs))\n",
    "\n",
    "\n",
    "class MLPBlock(tf.keras.Model):\n",
    "\n",
    "    def __init__(self, output_dimension, hidden_dimension):\n",
    "        super(MLPBlock, self).__init__()\n",
    "        self.mlp_1 = tf.keras.layers.Dense(hidden_dimension)\n",
    "        self.mlp_2 = tf.keras.layers.Dense(output_dimension)\n",
    "        self.activation = GELU()\n",
    "\n",
    "    def call(self, inputs):\n",
    "        y = self.mlp_1(inputs)\n",
    "        y = self.activation(y)\n",
    "        y = self.mlp_2(y)\n",
    "        return self.activation(y)"
   ]
  },
  {
   "cell_type": "code",
   "execution_count": null,
   "id": "ebf4fb7d",
   "metadata": {},
   "outputs": [],
   "source": []
  }
 ],
 "metadata": {
  "kernelspec": {
   "display_name": "Python 3",
   "language": "python",
   "name": "python3"
  },
  "language_info": {
   "codemirror_mode": {
    "name": "ipython",
    "version": 3
   },
   "file_extension": ".py",
   "mimetype": "text/x-python",
   "name": "python",
   "nbconvert_exporter": "python",
   "pygments_lexer": "ipython3",
   "version": "3.7.10"
  }
 },
 "nbformat": 4,
 "nbformat_minor": 5
}
